{
 "cells": [
  {
   "cell_type": "code",
   "execution_count": null,
   "metadata": {},
   "outputs": [],
   "source": [
    "import h5py\n",
    "from os.path import join\n",
    "from plotly.offline import download_plotlyjs, init_notebook_mode, plot, iplot\n",
    "import progressbar\n",
    "import numpy as np\n",
    "\n",
    "import torch\n",
    "from torch.autograd import Variable\n",
    "import torch.nn as nn\n",
    "import torch.nn.functional as F\n",
    "import torch.optim as optim\n",
    "\n",
    "from mssa_learning.models.dnn_classifier import DNNClassifier\n",
    "from mssa_learning.models.rnn_classifier import RNNClassifier\n",
    "from mssa_learning.models.lstm_classifier import LSTMClassifier\n",
    "from mssa_learning.tools.dataloader import *\n",
    "\n",
    "from sklearn.svm import LinearSVC\n",
    "import csv"
   ]
  },
  {
   "cell_type": "code",
   "execution_count": null,
   "metadata": {},
   "outputs": [],
   "source": [
    "init_notebook_mode(connected=True)"
   ]
  },
  {
   "cell_type": "markdown",
   "metadata": {},
   "source": [
    "### Load dataset"
   ]
  },
  {
   "cell_type": "code",
   "execution_count": null,
   "metadata": {
    "collapsed": true
   },
   "outputs": [],
   "source": [
    "h5_data = h5py.File(join(\"..\", \"data\", \"dataset_converted\" , \"h5\", \"pc_kalman.h5\"))"
   ]
  },
  {
   "cell_type": "code",
   "execution_count": null,
   "metadata": {
    "collapsed": true
   },
   "outputs": [],
   "source": [
    "features, labels = h5_to_numpy(h5_data, nb_components=10)"
   ]
  },
  {
   "cell_type": "code",
   "execution_count": null,
   "metadata": {
    "collapsed": true
   },
   "outputs": [],
   "source": [
    "train_x, train_y, test_x, test_y = create_training_base(features, labels, 5)"
   ]
  },
  {
   "cell_type": "markdown",
   "metadata": {},
   "source": [
    "### RNN Classification"
   ]
  },
  {
   "cell_type": "code",
   "execution_count": null,
   "metadata": {
    "collapsed": true
   },
   "outputs": [],
   "source": [
    "D_in = len(train_x[0][0])\n",
    "H = 64\n",
    "D_out = max(train_y) + 1  # number of classes to learn"
   ]
  },
  {
   "cell_type": "code",
   "execution_count": null,
   "metadata": {
    "collapsed": true
   },
   "outputs": [],
   "source": [
    "steps = 100000\n",
    "epochs = 1"
   ]
  },
  {
   "cell_type": "code",
   "execution_count": null,
   "metadata": {
    "collapsed": true
   },
   "outputs": [],
   "source": [
    "model = RNNClassifier(D_in, D_out, H, steps=steps, epochs=epochs, scale=False)"
   ]
  },
  {
   "cell_type": "code",
   "execution_count": null,
   "metadata": {},
   "outputs": [],
   "source": [
    "model.fit(train_x, train_y)"
   ]
  },
  {
   "cell_type": "code",
   "execution_count": null,
   "metadata": {},
   "outputs": [],
   "source": [
    "nb_errors = 0\n",
    "for i, input_data in enumerate(test_x):\n",
    "    model.hidden = model.init_hidden()\n",
    "    x = torch.zeros(len(input_data), 1, len(input_data[0]))\n",
    "    for row in range(len(input_data)):\n",
    "        x[row, 0] = torch.from_numpy(input_data[row]).float()\n",
    "    x = Variable(x)\n",
    "    for j in range(x.size()[0]):\n",
    "        output = model.forward(x[j])\n",
    "    top_n, top_i = output.data.topk(1)\n",
    "    y_pred = int(top_i[0][0])\n",
    "\n",
    "    if y_pred != test_y[i]:\n",
    "        nb_errors += 1\n",
    "success_rate = (len(test_x) - nb_errors) / float(len(test_x))\n",
    "print success_rate"
   ]
  },
  {
   "cell_type": "markdown",
   "metadata": {},
   "source": [
    "### LSTM Classification"
   ]
  },
  {
   "cell_type": "code",
   "execution_count": null,
   "metadata": {
    "collapsed": true
   },
   "outputs": [],
   "source": [
    "D_in = len(train_x[0][0])\n",
    "H = 32\n",
    "D_out = max(train_y)  # number of classes to learn"
   ]
  },
  {
   "cell_type": "code",
   "execution_count": null,
   "metadata": {
    "collapsed": true
   },
   "outputs": [],
   "source": [
    "steps = 50000\n",
    "epochs = 1"
   ]
  },
  {
   "cell_type": "code",
   "execution_count": null,
   "metadata": {
    "collapsed": true
   },
   "outputs": [],
   "source": [
    "model = LSTMClassifier(D_in, D_out, H, steps=steps, epochs=epochs, scale=False)"
   ]
  },
  {
   "cell_type": "code",
   "execution_count": null,
   "metadata": {},
   "outputs": [],
   "source": [
    "model.fit(train_x, train_y)"
   ]
  },
  {
   "cell_type": "code",
   "execution_count": null,
   "metadata": {},
   "outputs": [],
   "source": [
    "nb_errors = 0\n",
    "for i, input_data in enumerate(test_x):\n",
    "    model.hidden = model.init_hidden()\n",
    "    x = torch.zeros(len(input_data), 1, len(input_data[0]))\n",
    "    for row in range(len(input_data)):\n",
    "        x[row, 0] = torch.from_numpy(input_data[row]).float()\n",
    "    x = Variable(x)\n",
    "    output = model.forward(x)\n",
    "    top_n, top_i = output.data.topk(1)\n",
    "    y_pred = int(top_i[0][0])\n",
    "    if y_pred != test_y[i]:\n",
    "        nb_errors += 1\n",
    "success_rate = (len(test_x) - nb_errors) / float(len(test_x))\n",
    "print success_rate"
   ]
  },
  {
   "cell_type": "markdown",
   "metadata": {},
   "source": [
    "#### CSV export"
   ]
  },
  {
   "cell_type": "code",
   "execution_count": null,
   "metadata": {
    "collapsed": true
   },
   "outputs": [],
   "source": [
    "def data_to_rows(features, labels):\n",
    "    rows = np.hstack((features, labels))\n",
    "    return rows"
   ]
  },
  {
   "cell_type": "code",
   "execution_count": null,
   "metadata": {
    "collapsed": true
   },
   "outputs": [],
   "source": [
    "with open('/tmp/train.csv', 'w') as csvfile:\n",
    "    writer = csv.writer(csvfile, delimiter=',', quotechar='|', quoting=csv.QUOTE_MINIMAL)\n",
    "    writer.writerows(rows)"
   ]
  },
  {
   "cell_type": "code",
   "execution_count": null,
   "metadata": {
    "collapsed": true
   },
   "outputs": [],
   "source": [
    "h5_pc = h5py.File(join(\"..\", \"data\", \"dataset_converted\" , \"h5\", \"kalman.h5\"))"
   ]
  },
  {
   "cell_type": "code",
   "execution_count": null,
   "metadata": {
    "collapsed": true
   },
   "outputs": [],
   "source": [
    "h5_pc['P001R001A001'].keys()"
   ]
  },
  {
   "cell_type": "code",
   "execution_count": null,
   "metadata": {
    "collapsed": true
   },
   "outputs": [],
   "source": []
  }
 ],
 "metadata": {
  "kernelspec": {
   "display_name": "Python 2",
   "language": "python",
   "name": "python2"
  },
  "language_info": {
   "codemirror_mode": {
    "name": "ipython",
    "version": 2
   },
   "file_extension": ".py",
   "mimetype": "text/x-python",
   "name": "python",
   "nbconvert_exporter": "python",
   "pygments_lexer": "ipython2",
   "version": "2.7.12"
  }
 },
 "nbformat": 4,
 "nbformat_minor": 2
}
