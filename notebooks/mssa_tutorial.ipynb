{
 "cells": [
  {
   "cell_type": "code",
   "execution_count": null,
   "metadata": {
    "collapsed": true
   },
   "outputs": [],
   "source": [
    "import numpy as np\n",
    "import plotly.plotly as py\n",
    "import plotly.graph_objs as go\n",
    "from plotly import tools\n",
    "from scipy.linalg import toeplitz\n",
    "from scipy.stats import norm\n",
    "from copy import deepcopy"
   ]
  },
  {
   "cell_type": "code",
   "execution_count": null,
   "metadata": {
    "collapsed": true
   },
   "outputs": [],
   "source": [
    "np.random.seed(12)"
   ]
  },
  {
   "cell_type": "code",
   "execution_count": null,
   "metadata": {
    "collapsed": true
   },
   "outputs": [],
   "source": [
    "M = 30  # window lenght of SSA\n",
    "N = 200  #length of the time series\n",
    "T = 22  # period of the sine function\n",
    "stdnoise = 0.1  # noise-to-signal ratio"
   ]
  },
  {
   "cell_type": "code",
   "execution_count": null,
   "metadata": {
    "collapsed": true
   },
   "outputs": [],
   "source": [
    "t = np.arange(1, N+1)\n",
    "X1 = np.sin(2*np.pi*t/T)\n",
    "X2 = np.cos(2*np.pi*t/T)**3\n",
    "noise = norm.ppf(np.random.rand(N,1))\n",
    "noise = np.hstack((noise, norm.ppf(np.random.rand(N,1))))\n",
    "noise = stdnoise*noise"
   ]
  },
  {
   "cell_type": "code",
   "execution_count": null,
   "metadata": {
    "collapsed": true
   },
   "outputs": [],
   "source": [
    "X1 = X1 + noise[:, 0]\n",
    "X2 = X2 + noise[:, 1]\n",
    "X1 = X1 - np.mean(X1) \n",
    "X2 = X2 - np.mean(X2)\n",
    "X1 = X1/np.std(X1)\n",
    "X2 = X2/np.std(X2)\n",
    "X = np.transpose([X1, X2])"
   ]
  },
  {
   "cell_type": "code",
   "execution_count": null,
   "metadata": {},
   "outputs": [],
   "source": [
    "trace1 = go.Scatter(\n",
    "    x = t,\n",
    "    y = X1\n",
    ")\n",
    "trace2 = go.Scatter(\n",
    "    x = t,\n",
    "    y = X2\n",
    ")\n",
    "\n",
    "fig = tools.make_subplots(rows=1, cols=2)\n",
    "\n",
    "fig.append_trace(trace1, 1, 1)\n",
    "fig.append_trace(trace2, 1, 2)\n",
    "\n",
    "fig['layout'].update(height=600, width=900, title='timeseries')\n",
    "py.iplot(fig, filename='timeseries')"
   ]
  },
  {
   "cell_type": "markdown",
   "metadata": {},
   "source": [
    "### Calculate the covariance matrix"
   ]
  },
  {
   "cell_type": "code",
   "execution_count": null,
   "metadata": {
    "collapsed": true
   },
   "outputs": [],
   "source": [
    "Y1 = np.zeros((N-M+1,M))\n",
    "Y2 = np.zeros((N-M+1,M))\n",
    "for m in range(M):\n",
    "    Y1[:, m] = X1[m:N-M+1+m]\n",
    "    Y2[:, m] = X2[m:N-M+1+m]\n",
    "Y = Y1\n",
    "Y = np.hstack((Y1, Y2))\n",
    "Cemb = np.dot(np.transpose(Y),Y) / (N-M+1)"
   ]
  },
  {
   "cell_type": "code",
   "execution_count": null,
   "metadata": {},
   "outputs": [],
   "source": [
    "trace = go.Heatmap(z=Cemb)\n",
    "data=[trace]\n",
    "py.iplot(data, filename='heatmap')"
   ]
  },
  {
   "cell_type": "markdown",
   "metadata": {},
   "source": [
    "### Calculate eigenvalues and eigenvectors"
   ]
  },
  {
   "cell_type": "code",
   "execution_count": null,
   "metadata": {
    "collapsed": true
   },
   "outputs": [],
   "source": [
    "eig_val,eig_vec = np.linalg.eigh(Cemb)\n",
    "indexes = np.argsort(eig_val)[::-1]\n",
    "eig_val = np.array([eig_val[i] for i in indexes])\n",
    "eig_vec = np.transpose([eig_vec[:, i] for i in indexes])"
   ]
  },
  {
   "cell_type": "code",
   "execution_count": null,
   "metadata": {
    "collapsed": true
   },
   "outputs": [],
   "source": [
    "trace1 = go.Scatter(\n",
    "    x = np.arange(len(eig_val)),\n",
    "    y = eig_val\n",
    ")\n",
    "trace2 = go.Scatter(\n",
    "    x = np.arange(len(eig_val)),\n",
    "    y = eig_vec[:,0]\n",
    ")\n",
    "trace3 = go.Scatter(\n",
    "    x = np.arange(len(eig_val)),\n",
    "    y = eig_vec[:,1]\n",
    ")\n",
    "trace4 = go.Scatter(\n",
    "    x = np.arange(len(eig_val)),\n",
    "    y = eig_vec[:,2]\n",
    ")\n",
    "trace5 = go.Scatter(\n",
    "    x = np.arange(len(eig_val)),\n",
    "    y = eig_vec[:,3]\n",
    ")\n",
    "\n",
    "fig = tools.make_subplots(rows=3, cols=1)\n",
    "\n",
    "fig.append_trace(trace1, 1, 1)\n",
    "fig.append_trace(trace2, 2, 1)\n",
    "fig.append_trace(trace3, 2, 1)\n",
    "fig.append_trace(trace4, 3, 1)\n",
    "fig.append_trace(trace5, 3, 1)\n",
    "\n",
    "fig['layout'].update(height=600, width=900, title='eigenvectors and eignevalues')\n",
    "py.iplot(fig, filename='eigenvectors')"
   ]
  },
  {
   "cell_type": "markdown",
   "metadata": {},
   "source": [
    "### Calculate principal components"
   ]
  },
  {
   "cell_type": "code",
   "execution_count": null,
   "metadata": {
    "collapsed": true
   },
   "outputs": [],
   "source": [
    "pc = np.dot(Y, eig_vec)"
   ]
  },
  {
   "cell_type": "code",
   "execution_count": null,
   "metadata": {
    "collapsed": true
   },
   "outputs": [],
   "source": [
    "fig = tools.make_subplots(rows=4, cols=1)\n",
    "for k in range(4):\n",
    "    data = pc[:, k]\n",
    "    trace = go.Scatter(\n",
    "        x = np.arange(len(data)),\n",
    "        y = data\n",
    "    )\n",
    "    fig.append_trace(trace, k+1, 1)\n",
    "fig['layout'].update(height=600, width=900, title='principal components')\n",
    "py.iplot(fig, filename='principal_components')"
   ]
  },
  {
   "cell_type": "markdown",
   "metadata": {},
   "source": [
    "### Calculate reconstrcuted components"
   ]
  },
  {
   "cell_type": "code",
   "execution_count": null,
   "metadata": {
    "collapsed": true
   },
   "outputs": [],
   "source": [
    "RC1 = np.zeros((N, 2*M))\n",
    "RC2 = np.zeros((N, 2*M))\n",
    "for m in range(2*M):\n",
    "    buf1 = np.dot(np.transpose([pc[:, m]]), [np.transpose(eig_vec[:M, m])])\n",
    "    buf1 = np.flipud(buf1)\n",
    "    \n",
    "    buf2 = np.dot(np.transpose([pc[:, m]]), [np.transpose(eig_vec[M:, m])])\n",
    "    buf2 = np.flipud(buf2)\n",
    "    \n",
    "    for n in range(N):\n",
    "        RC1[n, m] = np.mean(np.diag(buf1, -(N-M) + n))\n",
    "        RC2[n, m] = np.mean(np.diag(buf2, -(N-M) + n))"
   ]
  },
  {
   "cell_type": "code",
   "execution_count": null,
   "metadata": {
    "collapsed": true
   },
   "outputs": [],
   "source": [
    "fig = tools.make_subplots(rows=4, cols=2)\n",
    "for k in range(4):\n",
    "    data = RC1[:, k]\n",
    "    trace1 = go.Scatter(\n",
    "        x = np.arange(len(data)),\n",
    "        y = data\n",
    "    )\n",
    "    \n",
    "    data = RC2[:, k]\n",
    "    trace2 = go.Scatter(\n",
    "        x = np.arange(len(data)),\n",
    "        y = data\n",
    "    )\n",
    "    \n",
    "    fig.append_trace(trace1, k+1, 1)\n",
    "    fig.append_trace(trace2, k+1, 2)\n",
    "fig['layout'].update(height=600, width=900, title='reconstructed components')\n",
    "py.iplot(fig, filename='reconstructed_components')"
   ]
  },
  {
   "cell_type": "markdown",
   "metadata": {},
   "source": [
    "### Compare resconstructed and original time series"
   ]
  },
  {
   "cell_type": "code",
   "execution_count": null,
   "metadata": {
    "collapsed": true
   },
   "outputs": [],
   "source": [
    "fig = tools.make_subplots(rows=2, cols=2)\n",
    "trace1 = go.Scatter(\n",
    "        x = t,\n",
    "        y = X1\n",
    "    )\n",
    "trace2 = go.Scatter(\n",
    "        x = t,\n",
    "        y = np.sum(RC1,1)\n",
    "    )\n",
    "fig.append_trace(trace1, 1, 1)\n",
    "fig.append_trace(trace2, 1, 1)\n",
    "\n",
    "trace3 = go.Scatter(\n",
    "        x = t,\n",
    "        y = X2\n",
    "    )\n",
    "trace4 = go.Scatter(\n",
    "        x = t,\n",
    "        y = np.sum(RC2,1)\n",
    "    )\n",
    "fig.append_trace(trace3, 1, 2)\n",
    "fig.append_trace(trace4, 1, 2)\n",
    "\n",
    "trace5 = go.Scatter(\n",
    "        x = t,\n",
    "        y = np.sum(RC1[:,:2],1)\n",
    "    )\n",
    "fig.append_trace(trace1, 2, 1)\n",
    "fig.append_trace(trace5, 2, 1)\n",
    "\n",
    "trace6 = go.Scatter(\n",
    "        x = t,\n",
    "        y = np.sum(RC2[:,:2],1)\n",
    "    )\n",
    "fig.append_trace(trace3, 2, 2)\n",
    "fig.append_trace(trace6, 2, 2)\n",
    "\n",
    "fig['layout'].update(height=600, width=900, title='original versus reconstruction')\n",
    "py.iplot(fig, filename='comparison')"
   ]
  },
  {
   "cell_type": "code",
   "execution_count": null,
   "metadata": {
    "collapsed": true
   },
   "outputs": [],
   "source": []
  }
 ],
 "metadata": {
  "kernelspec": {
   "display_name": "Python 2",
   "language": "python",
   "name": "python2"
  },
  "language_info": {
   "codemirror_mode": {
    "name": "ipython",
    "version": 2
   },
   "file_extension": ".py",
   "mimetype": "text/x-python",
   "name": "python",
   "nbconvert_exporter": "python",
   "pygments_lexer": "ipython2",
   "version": "2.7.12"
  }
 },
 "nbformat": 4,
 "nbformat_minor": 2
}
